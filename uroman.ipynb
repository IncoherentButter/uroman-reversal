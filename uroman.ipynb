{
 "cells": [
  {
   "cell_type": "markdown",
   "id": "44a148f6",
   "metadata": {},
   "source": [
    "###  _uroman_ package examples\n",
    "by Ulf Hermjakob, June 28, 2024 (uroman version 1.3.1.1)"
   ]
  },
  {
   "cell_type": "code",
   "execution_count": null,
   "id": "1a808dbc",
   "metadata": {},
   "outputs": [],
   "source": [
    "# pip install uroman\n",
    "\n",
    "import uroman as ur\n",
    "\n",
    "# load uroman data (once at the beginning)\n",
    "uroman = ur.Uroman()"
   ]
  },
  {
   "cell_type": "code",
   "execution_count": null,
   "id": "7cc72ba3",
   "metadata": {},
   "outputs": [],
   "source": [
    "# Romanizing strings from different scripts\n",
    "\n",
    "for s in ('Νεπάλ', 'नेपाल', 'نیپال', '三万一'):\n",
    "    print(s, uroman.romanize_string(s))"
   ]
  },
  {
   "cell_type": "code",
   "execution_count": null,
   "id": "08bb7272",
   "metadata": {},
   "outputs": [],
   "source": [
    "# Romanizing a string using different language codes\n",
    "\n",
    "s = 'Игорь'\n",
    "for lang_code in ('rus', 'ukr', None):\n",
    "    print(s, lang_code, uroman.romanize_string(s, lcode=lang_code))"
   ]
  },
  {
   "cell_type": "code",
   "execution_count": null,
   "id": "f388f825",
   "metadata": {},
   "outputs": [],
   "source": [
    "# Romanizing a string in different output formats (string, JSONL)\n",
    "\n",
    "import sys\n",
    "\n",
    "s = 'ایران'\n",
    "lcode = 'fas'\n",
    "\n",
    "input_filename = 'in.txt'\n",
    "with open(input_filename, 'w') as f: \n",
    "    f.write(s + '\\n')\n",
    "print(f\"Input string:\\n{s}\\n\")\n",
    "    \n",
    "format_output_list = ((ur.RomFormat.STR,     'str.txt'), \n",
    "                      (ur.RomFormat.EDGES,   'edges.jsonl'), \n",
    "                      (ur.RomFormat.ALTS,    'alts.jsonl'), \n",
    "                      (ur.RomFormat.LATTICE, 'lattice.jsonl'))\n",
    "\n",
    "for rom_format, output_filename in format_output_list:\n",
    "    uroman.romanize_file(input_filename=input_filename, \n",
    "                         output_filename=output_filename, \n",
    "                         lcode=lcode,\n",
    "                         rom_format=rom_format)\n",
    "    with open(output_filename) as f:\n",
    "        sys.stdout.write(f\"Output format: {rom_format}\\n{f.read()}\\n\")        "
   ]
  },
  {
   "cell_type": "code",
   "execution_count": null,
   "id": "9051957c",
   "metadata": {
    "scrolled": true
   },
   "outputs": [],
   "source": [
    "# A file with text from different scripts and languages (marked by line-initial ::lcode <lcode>)\n",
    "\n",
    "input_filename  = 'multi-script.txt'\n",
    "\n",
    "with open(input_filename) as f:\n",
    "    print(f.read())"
   ]
  },
  {
   "cell_type": "code",
   "execution_count": null,
   "id": "c1aab5e3",
   "metadata": {},
   "outputs": [],
   "source": [
    "# Romanization of a file with text from different scripts and languages\n",
    "# How many US states can you identify in the romanized Hindi (::lcode hin) sentence below?\n",
    "\n",
    "output_filename = 'multi-script.uroman.txt'\n",
    "\n",
    "uroman.romanize_file(input_filename=input_filename, output_filename=output_filename)\n",
    "\n",
    "with open(output_filename) as f:\n",
    "    print(f.read())"
   ]
  }
 ],
 "metadata": {
  "kernelspec": {
   "display_name": "Python 3 (ipykernel)",
   "language": "python",
   "name": "python3"
  },
  "language_info": {
   "codemirror_mode": {
    "name": "ipython",
    "version": 3
   },
   "file_extension": ".py",
   "mimetype": "text/x-python",
   "name": "python",
   "nbconvert_exporter": "python",
   "pygments_lexer": "ipython3",
   "version": "3.11.5"
  }
 },
 "nbformat": 4,
 "nbformat_minor": 5
}
